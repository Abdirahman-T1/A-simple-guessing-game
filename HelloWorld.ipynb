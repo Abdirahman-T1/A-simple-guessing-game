{
  "nbformat": 4,
  "nbformat_minor": 0,
  "metadata": {
    "colab": {
      "provenance": [],
      "authorship_tag": "ABX9TyMhWIADujgUQcFVdOeR82AH",
      "include_colab_link": true
    },
    "kernelspec": {
      "name": "python3",
      "display_name": "Python 3"
    },
    "language_info": {
      "name": "python"
    }
  },
  "cells": [
    {
      "cell_type": "markdown",
      "metadata": {
        "id": "view-in-github",
        "colab_type": "text"
      },
      "source": [
        "<a href=\"https://colab.research.google.com/github/Abdirahman-T1/A-simple-guessing-game/blob/main/HelloWorld.ipynb\" target=\"_parent\"><img src=\"https://colab.research.google.com/assets/colab-badge.svg\" alt=\"Open In Colab\"/></a>"
      ]
    },
    {
      "cell_type": "code",
      "execution_count": null,
      "metadata": {
        "colab": {
          "base_uri": "https://localhost:8080/"
        },
        "id": "8wZODhkqEy-Q",
        "outputId": "2be0727b-e920-4a33-a9c7-d7bc78c79d6d"
      },
      "outputs": [
        {
          "output_type": "stream",
          "name": "stdout",
          "text": [
            "Hello Worlds\n",
            "what is your name? a \n",
            "what is your surname? t\n",
            "hi a  t\n",
            "do you want to play a guessing game? yes/no a\n",
            "Thanks for your consideration a  t\n"
          ]
        }
      ],
      "source": [
        "import random\n",
        "print(\"Hello Worlds\")\n",
        "name = input(\"what is your name? \")\n",
        "surname = input(\"what is your surname? \")\n",
        "print(\"hi \"+ name +\" \"+ surname)\n",
        "decide = input(\"do you want to play a guessing game? yes/no \")\n",
        "if decide == \"yes\":\n",
        "  random_num = random.randint(0,100)\n",
        "  while True:\n",
        "    guess = int(input(\"guess a number between 1 and 100 \"))\n",
        "    if guess < random_num:\n",
        "      print(\"your cold\")\n",
        "    if guess > random_num:\n",
        "      print(\"your too hot\")\n",
        "    if guess == random_num:\n",
        "        print(\"your correct congratulation\")\n",
        "        break\n",
        "else :\n",
        "  print(\"Thanks for your consideration \"+ name +\" \"+ surname)"
      ]
    }
  ]
}